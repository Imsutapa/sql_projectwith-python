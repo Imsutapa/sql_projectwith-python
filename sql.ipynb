{
 "cells": [
  {
   "cell_type": "code",
   "execution_count": null,
   "id": "b1f819c6",
   "metadata": {},
   "outputs": [],
   "source": []
  },
  {
   "cell_type": "code",
   "execution_count": 1,
   "id": "5a8aaa40",
   "metadata": {},
   "outputs": [],
   "source": [
    "import sqlite3\n",
    "import pandas as pd\n",
    "import matplotlib.pyplot as plt\n",
    "import seaborn as sns\n",
    "con = sqlite3.connect(\"project_database\")"
   ]
  },
  {
   "cell_type": "code",
   "execution_count": 2,
   "id": "f6947cce",
   "metadata": {
    "scrolled": true
   },
   "outputs": [
    {
     "ename": "OperationalError",
     "evalue": "table customer already exists",
     "output_type": "error",
     "traceback": [
      "\u001b[1;31m---------------------------------------------------------------------------\u001b[0m",
      "\u001b[1;31mOperationalError\u001b[0m                          Traceback (most recent call last)",
      "\u001b[1;32m~\\AppData\\Local\\Temp\\ipykernel_12356\\3588835500.py\u001b[0m in \u001b[0;36m<module>\u001b[1;34m\u001b[0m\n\u001b[0;32m      1\u001b[0m \u001b[0mcor\u001b[0m\u001b[1;33m=\u001b[0m\u001b[0mcon\u001b[0m\u001b[1;33m.\u001b[0m\u001b[0mcursor\u001b[0m\u001b[1;33m(\u001b[0m\u001b[1;33m)\u001b[0m\u001b[1;33m\u001b[0m\u001b[1;33m\u001b[0m\u001b[0m\n\u001b[1;32m----> 2\u001b[1;33m cor.execute( '''CREATE TABLE customer (\n\u001b[0m\u001b[0;32m      3\u001b[0m \u001b[0mcustomer_id\u001b[0m \u001b[0mvarchar\u001b[0m\u001b[1;33m(\u001b[0m\u001b[1;36m10\u001b[0m\u001b[1;33m)\u001b[0m \u001b[0mNOT\u001b[0m \u001b[0mNULL\u001b[0m\u001b[1;33m,\u001b[0m\u001b[1;33m\u001b[0m\u001b[1;33m\u001b[0m\u001b[0m\n\u001b[0;32m      4\u001b[0m \u001b[0mname\u001b[0m \u001b[0mvarchar\u001b[0m\u001b[1;33m(\u001b[0m\u001b[1;36m100\u001b[0m\u001b[1;33m)\u001b[0m \u001b[0mNOT\u001b[0m \u001b[0mNULL\u001b[0m\u001b[1;33m,\u001b[0m\u001b[1;33m\u001b[0m\u001b[1;33m\u001b[0m\u001b[0m\n\u001b[0;32m      5\u001b[0m \u001b[0mcity\u001b[0m \u001b[0mvarchar\u001b[0m\u001b[1;33m(\u001b[0m\u001b[1;36m65\u001b[0m\u001b[1;33m)\u001b[0m \u001b[0mNOT\u001b[0m \u001b[0mNULL\u001b[0m\u001b[1;33m,\u001b[0m\u001b[1;33m\u001b[0m\u001b[1;33m\u001b[0m\u001b[0m\n",
      "\u001b[1;31mOperationalError\u001b[0m: table customer already exists"
     ]
    }
   ],
   "source": [
    "cor=con.cursor()\n",
    "cor.execute( '''CREATE TABLE customer (\n",
    "customer_id varchar(10) NOT NULL,\n",
    "name varchar(100) NOT NULL,\n",
    "city varchar(65) NOT NULL,\n",
    "email varchar(45) NOT NULL,\n",
    "phone_no varchar(15) NOT NULL,\n",
    "address varchar(100) NOT NULL,\n",
    "pin_code int NOT NULL,\n",
    "PRIMARY KEY (customer_id)\n",
    ") ;''')"
   ]
  },
  {
   "cell_type": "code",
   "execution_count": 3,
   "id": "bcfab30e",
   "metadata": {},
   "outputs": [
    {
     "data": {
      "text/plain": [
       "<sqlite3.Cursor at 0x1a9f262f8f0>"
      ]
     },
     "execution_count": 3,
     "metadata": {},
     "output_type": "execute_result"
    }
   ],
   "source": [
    "cor.execute(''' INSERT INTO `customer` VALUES ('C1001','Steve','Tokyo','steve@gmail.com','4567897652','f.g.road',99),('C1002','john','Sydney','john@gmail.com','9987234567','k.c.road',75001),('C1003','Peter','Kanagawa','peter.parker@mail.com','9969834567','2F Ikenobecho',171),('C1004','Jackson','Tokyo','Jackson@gmail.com','7765834567','24-2, Sendagaya',8429),('C1005','Jack','Lake Buena Vista','Jack@gmail.com','8876345678','1520 E Buena Vista Drive',32830);''')"
   ]
  },
  {
   "cell_type": "code",
   "execution_count": 4,
   "id": "c530433b",
   "metadata": {},
   "outputs": [
    {
     "name": "stdout",
     "output_type": "stream",
     "text": [
      "  customer_id     name              city                  email    phone_no  \\\n",
      "0       C1001    Steve             Tokyo        steve@gmail.com  4567897652   \n",
      "1       C1002     john            Sydney         john@gmail.com  9987234567   \n",
      "2       C1003    Peter          Kanagawa  peter.parker@mail.com  9969834567   \n",
      "3       C1004  Jackson             Tokyo      Jackson@gmail.com  7765834567   \n",
      "4       C1005     Jack  Lake Buena Vista         Jack@gmail.com  8876345678   \n",
      "\n",
      "                    address  pin_code  \n",
      "0                  f.g.road        99  \n",
      "1                  k.c.road     75001  \n",
      "2             2F Ikenobecho       171  \n",
      "3           24-2, Sendagaya      8429  \n",
      "4  1520 E Buena Vista Drive     32830  \n"
     ]
    }
   ],
   "source": [
    "cor.execute('''select * from customer;''')\n",
    "customer_data = pd.DataFrame(cor.fetchall(), columns=[desc[0] for desc in\n",
    "cor.description])\n",
    "print(customer_data.head())"
   ]
  },
  {
   "cell_type": "code",
   "execution_count": 5,
   "id": "3625ecfb",
   "metadata": {},
   "outputs": [
    {
     "data": {
      "text/plain": [
       "<sqlite3.Cursor at 0x1a9f289c0a0>"
      ]
     },
     "execution_count": 5,
     "metadata": {},
     "output_type": "execute_result"
    }
   ],
   "source": [
    "cor=con.cursor()\n",
    "cor.execute(''' CREATE TABLE product (\n",
    "product_id varchar(10) NOT NULL,\n",
    "product_name varchar(100) NOT NULL,\n",
    "category varchar(65) NOT NULL,\n",
    "sub_category varchar(45) NOT NULL,\n",
    "original_price double NOT NULL,\n",
    "selling_price double NOT NULL,\n",
    "stock int NOT NULL,\n",
    "PRIMARY KEY (product_id)\n",
    ");''')"
   ]
  },
  {
   "cell_type": "code",
   "execution_count": 6,
   "id": "db553575",
   "metadata": {},
   "outputs": [
    {
     "data": {
      "text/plain": [
       "<sqlite3.Cursor at 0x1a9f289c340>"
      ]
     },
     "execution_count": 6,
     "metadata": {},
     "output_type": "execute_result"
    }
   ],
   "source": [
    "cor=con.cursor()\n",
    "cor.execute(''' CREATE TABLE order_details(\n",
    "    order_id INTEGER PRIMARY KEY,\n",
    "    customer_id TEXT NOT NULL,\n",
    "    product_id TEXT NOT NULL,\n",
    "    quantity REAL NOT NULL,\n",
    "    total_price REAL NOT NULL,\n",
    "    payment_mode TEXT NOT NULL,\n",
    "    order_date DATETIME DEFAULT NULL,\n",
    "    order_status TEXT NOT NULL,\n",
    "    FOREIGN KEY (customer_id) REFERENCES customer(customer_id),\n",
    "    FOREIGN KEY (product_id) REFERENCES product(product_id)\n",
    ");''')"
   ]
  },
  {
   "cell_type": "code",
   "execution_count": 7,
   "id": "c83815fa",
   "metadata": {},
   "outputs": [
    {
     "data": {
      "text/plain": [
       "<sqlite3.Cursor at 0x1a9f289c340>"
      ]
     },
     "execution_count": 7,
     "metadata": {},
     "output_type": "execute_result"
    }
   ],
   "source": [
    "cor.execute('''INSERT INTO `product` VALUES('P104','Smartphone','Electronics','phone',45000,40000,20);''')"
   ]
  },
  {
   "cell_type": "code",
   "execution_count": 8,
   "id": "25fe7e09",
   "metadata": {},
   "outputs": [
    {
     "data": {
      "text/plain": [
       "<sqlite3.Cursor at 0x1a9f289c340>"
      ]
     },
     "execution_count": 8,
     "metadata": {},
     "output_type": "execute_result"
    }
   ],
   "source": [
    "cor.execute('''INSERT INTO `product` VALUES ('P102','Chair','furniture','Chairs',20000,15000,10);''')"
   ]
  },
  {
   "cell_type": "code",
   "execution_count": 9,
   "id": "e59b7321",
   "metadata": {},
   "outputs": [
    {
     "data": {
      "text/plain": [
       "<sqlite3.Cursor at 0x1a9f289c340>"
      ]
     },
     "execution_count": 9,
     "metadata": {},
     "output_type": "execute_result"
    }
   ],
   "source": [
    "cor.execute('''INSERT INTO `product` VALUES ('P101','chair','furniture','phone',450,400,21);''')"
   ]
  },
  {
   "cell_type": "code",
   "execution_count": 10,
   "id": "503edcc8",
   "metadata": {},
   "outputs": [
    {
     "data": {
      "text/plain": [
       "<sqlite3.Cursor at 0x1a9f289c340>"
      ]
     },
     "execution_count": 10,
     "metadata": {},
     "output_type": "execute_result"
    }
   ],
   "source": [
    "cor.execute('''INSERT INTO `product` VALUES('P106','Smartphone','Electronics','phone',4500000,400000,26);''')"
   ]
  },
  {
   "cell_type": "code",
   "execution_count": 11,
   "id": "fbd6d19e",
   "metadata": {},
   "outputs": [
    {
     "data": {
      "text/plain": [
       "<sqlite3.Cursor at 0x1a9f289c340>"
      ]
     },
     "execution_count": 11,
     "metadata": {},
     "output_type": "execute_result"
    }
   ],
   "source": [
    "cor.execute('''INSERT INTO `product` VALUES ('P100','Smartphone','Electronics','chairs',550,500,22);''')"
   ]
  },
  {
   "cell_type": "code",
   "execution_count": 12,
   "id": "7857a68f",
   "metadata": {},
   "outputs": [
    {
     "data": {
      "text/plain": [
       "<sqlite3.Cursor at 0x1a9f289c340>"
      ]
     },
     "execution_count": 12,
     "metadata": {},
     "output_type": "execute_result"
    }
   ],
   "source": [
    "cor.execute('''INSERT INTO `product` VALUES ('P108','table','furniture','table',4500,4000,24);''')"
   ]
  },
  {
   "cell_type": "code",
   "execution_count": null,
   "id": "8b303c7f",
   "metadata": {},
   "outputs": [],
   "source": []
  },
  {
   "cell_type": "code",
   "execution_count": 13,
   "id": "096ecffe",
   "metadata": {},
   "outputs": [
    {
     "name": "stdout",
     "output_type": "stream",
     "text": [
      "  product_id product_name     category sub_category  original_price  \\\n",
      "0       P104   Smartphone  Electronics        phone         45000.0   \n",
      "1       P102        Chair    furniture       Chairs         20000.0   \n",
      "2       P101        chair    furniture        phone           450.0   \n",
      "3       P106   Smartphone  Electronics        phone       4500000.0   \n",
      "4       P100   Smartphone  Electronics       chairs           550.0   \n",
      "\n",
      "   selling_price  stock  \n",
      "0        40000.0     20  \n",
      "1        15000.0     10  \n",
      "2          400.0     21  \n",
      "3       400000.0     26  \n",
      "4          500.0     22  \n"
     ]
    }
   ],
   "source": [
    "cor.execute('''select * from product;''')\n",
    "product_data = pd.DataFrame(cor.fetchall(), columns=[desc[0] for desc in\n",
    "cor.description])\n",
    "print(product_data.head())"
   ]
  },
  {
   "cell_type": "code",
   "execution_count": 14,
   "id": "1a3a926a",
   "metadata": {},
   "outputs": [
    {
     "data": {
      "text/plain": [
       "<sqlite3.Cursor at 0x1a9f289c340>"
      ]
     },
     "execution_count": 14,
     "metadata": {},
     "output_type": "execute_result"
    }
   ],
   "source": [
    "cor.execute('''INSERT INTO `order_details` VALUES(9,'C108','P109',1.0,3000.0,'COD',2022-04-02,'delivery');''')"
   ]
  },
  {
   "cell_type": "code",
   "execution_count": 15,
   "id": "01c4eb00",
   "metadata": {},
   "outputs": [
    {
     "data": {
      "text/plain": [
       "<sqlite3.Cursor at 0x1a9f289c340>"
      ]
     },
     "execution_count": 15,
     "metadata": {},
     "output_type": "execute_result"
    }
   ],
   "source": [
    "cor.execute('''INSERT INTO `order_details` VALUES(6,'C108','P100',1.0,3000.0,'COD',2023-10-02,'PENDING');''')"
   ]
  },
  {
   "cell_type": "code",
   "execution_count": 16,
   "id": "7fb7e8d2",
   "metadata": {},
   "outputs": [
    {
     "data": {
      "text/plain": [
       "<sqlite3.Cursor at 0x1a9f289c340>"
      ]
     },
     "execution_count": 16,
     "metadata": {},
     "output_type": "execute_result"
    }
   ],
   "source": [
    "cor.execute('''INSERT INTO `order_details` VALUES(2,'C102','P111',1.0,2000.0,'COD',2023-01-02,'PENDING');''')"
   ]
  },
  {
   "cell_type": "code",
   "execution_count": 17,
   "id": "e5c588de",
   "metadata": {},
   "outputs": [
    {
     "data": {
      "text/plain": [
       "<sqlite3.Cursor at 0x1a9f289c340>"
      ]
     },
     "execution_count": 17,
     "metadata": {},
     "output_type": "execute_result"
    }
   ],
   "source": [
    "cor.execute('''INSERT INTO `order_details` VALUES(10,'C108','P124',1.0,10000.0,'COD',2022-10-02,'delivery');''')"
   ]
  },
  {
   "cell_type": "code",
   "execution_count": 18,
   "id": "63acf972",
   "metadata": {},
   "outputs": [
    {
     "data": {
      "text/plain": [
       "<sqlite3.Cursor at 0x1a9f289c340>"
      ]
     },
     "execution_count": 18,
     "metadata": {},
     "output_type": "execute_result"
    }
   ],
   "source": [
    "cor.execute('''INSERT INTO `order_details` VALUES(12,'C112','P24',1.0,20000.0,'COD',2022-04-04,'delivery');''')"
   ]
  },
  {
   "cell_type": "code",
   "execution_count": 19,
   "id": "39d2434a",
   "metadata": {},
   "outputs": [
    {
     "data": {
      "text/plain": [
       "<sqlite3.Cursor at 0x1a9f289c340>"
      ]
     },
     "execution_count": 19,
     "metadata": {},
     "output_type": "execute_result"
    }
   ],
   "source": [
    "cor.execute('''INSERT INTO `order_details` VALUES(14,'C110','P024',1.0,90000.0,'COD',2022-08-10,'delivery');''')"
   ]
  },
  {
   "cell_type": "code",
   "execution_count": 20,
   "id": "4d9c6962",
   "metadata": {},
   "outputs": [
    {
     "data": {
      "text/plain": [
       "<sqlite3.Cursor at 0x1a9f289c340>"
      ]
     },
     "execution_count": 20,
     "metadata": {},
     "output_type": "execute_result"
    }
   ],
   "source": [
    "cor.execute('''INSERT INTO `order_details` VALUES(16,'C116','P120',1.0,40000.0,'COD',2022-12-20,'delivery');''')"
   ]
  },
  {
   "cell_type": "code",
   "execution_count": 21,
   "id": "df1b072c",
   "metadata": {},
   "outputs": [
    {
     "data": {
      "text/plain": [
       "<sqlite3.Cursor at 0x1a9f289c340>"
      ]
     },
     "execution_count": 21,
     "metadata": {},
     "output_type": "execute_result"
    }
   ],
   "source": [
    "cor.execute('''INSERT INTO `order_details` VALUES(25,'C1025','P1',401.0,14000.0,'COD',2023-12-02,'pending');''')"
   ]
  },
  {
   "cell_type": "code",
   "execution_count": 22,
   "id": "fb08539f",
   "metadata": {},
   "outputs": [
    {
     "name": "stdout",
     "output_type": "stream",
     "text": [
      "   order_id customer_id product_id  quantity  total_price payment_mode  \\\n",
      "0         2        C102       P111       1.0       2000.0          COD   \n",
      "1         6        C108       P100       1.0       3000.0          COD   \n",
      "2         9        C108       P109       1.0       3000.0          COD   \n",
      "3        10        C108       P124       1.0      10000.0          COD   \n",
      "4        12        C112        P24       1.0      20000.0          COD   \n",
      "5        14        C110       P024       1.0      90000.0          COD   \n",
      "6        16        C116       P120       1.0      40000.0          COD   \n",
      "7        25       C1025         P1     401.0      14000.0          COD   \n",
      "\n",
      "   order_date order_status  \n",
      "0        2020      PENDING  \n",
      "1        2011      PENDING  \n",
      "2        2016     delivery  \n",
      "3        2010     delivery  \n",
      "4        2014     delivery  \n",
      "5        2004     delivery  \n",
      "6        1990     delivery  \n",
      "7        2009      pending  \n"
     ]
    }
   ],
   "source": [
    "cor.execute('''select * from order_details;''')\n",
    "order_details = pd.DataFrame(cor.fetchall(), columns=[desc[0] for desc in\n",
    "cor.description])\n",
    "print(order_details.head(20))"
   ]
  },
  {
   "cell_type": "code",
   "execution_count": 50,
   "id": "d5679809",
   "metadata": {},
   "outputs": [
    {
     "data": {
      "image/png": "[encoded data removed]",
      "text/plain": [
       "<Figure size 1800x600 with 1 Axes>"
      ]
     },
     "metadata": {},
     "output_type": "display_data"
    }
   ],
   "source": [
    "sns.catplot(y='total_price',x='order_date',data=order_details.sort_values('total_price',ascending=False),kind='bar',height=6,aspect=3)\n",
    "plt.show()"
   ]
  },
  {
   "cell_type": "code",
   "execution_count": 61,
   "id": "f59bd438",
   "metadata": {},
   "outputs": [
    {
     "data": {
      "image/png": "[encoded data removed]",
      "text/plain": [
       "<Figure size 1800x600 with 1 Axes>"
      ]
     },
     "metadata": {},
     "output_type": "display_data"
    }
   ],
   "source": [
    "sns.catplot(y='order_date',x='order_status',data=order_details.sort_values('total_price',ascending=False),kind='bar',height=6,aspect=3)\n",
    "plt.show()"
   ]
  },
  {
   "cell_type": "code",
   "execution_count": 23,
   "id": "d45eaada",
   "metadata": {},
   "outputs": [
    {
     "name": "stdout",
     "output_type": "stream",
     "text": [
      "customer_id    5\n",
      "name           5\n",
      "city           4\n",
      "email          5\n",
      "phone_no       5\n",
      "address        5\n",
      "pin_code       5\n",
      "dtype: int64\n",
      "product_id        6\n",
      "product_name      4\n",
      "category          2\n",
      "sub_category      4\n",
      "original_price    6\n",
      "selling_price     6\n",
      "stock             6\n",
      "dtype: int64\n",
      "order_id        8\n",
      "customer_id     6\n",
      "product_id      8\n",
      "quantity        2\n",
      "total_price     7\n",
      "payment_mode    1\n",
      "order_date      8\n",
      "order_status    3\n",
      "dtype: int64\n"
     ]
    }
   ],
   "source": [
    "print(customer_data.nunique())\n",
    "print(product_data.nunique())\n",
    "print(order_details.nunique())"
   ]
  },
  {
   "cell_type": "code",
   "execution_count": 24,
   "id": "71c6ee18",
   "metadata": {},
   "outputs": [
    {
     "name": "stdout",
     "output_type": "stream",
     "text": [
      "customer_id    0\n",
      "name           0\n",
      "city           0\n",
      "email          0\n",
      "phone_no       0\n",
      "address        0\n",
      "pin_code       0\n",
      "dtype: int64\n",
      "product_id        0\n",
      "product_name      0\n",
      "category          0\n",
      "sub_category      0\n",
      "original_price    0\n",
      "selling_price     0\n",
      "stock             0\n",
      "dtype: int64\n",
      "order_id        0\n",
      "customer_id     0\n",
      "product_id      0\n",
      "quantity        0\n",
      "total_price     0\n",
      "payment_mode    0\n",
      "order_date      0\n",
      "order_status    0\n",
      "dtype: int64\n"
     ]
    }
   ],
   "source": [
    "print(customer_data.isnull().sum())\n",
    "print(product_data.isnull().sum())\n",
    "print(order_details.isnull().sum())"
   ]
  },
  {
   "cell_type": "code",
   "execution_count": 25,
   "id": "2f4d1fdc",
   "metadata": {},
   "outputs": [
    {
     "data": {
      "text/plain": [
       "<AxesSubplot:title={'center':'total number of customers City wise'}, xlabel='city'>"
      ]
     },
     "execution_count": 25,
     "metadata": {},
     "output_type": "execute_result"
    },
    {
     "data": {
      "image/png": "[encoded data removed]",
      "text/plain": [
       "<Figure size 640x480 with 1 Axes>"
      ]
     },
     "metadata": {},
     "output_type": "display_data"
    }
   ],
   "source": [
    "# Identify the total number of customers City wise\n",
    "customer_data.groupby('city')['customer_id'].count().plot(kind='bar',title='total number of customers City wise')"
   ]
  },
  {
   "cell_type": "code",
   "execution_count": 26,
   "id": "46fd40bd",
   "metadata": {},
   "outputs": [
    {
     "data": {
      "text/plain": [
       "<AxesSubplot:title={'center':'total number of customers City wise'}, xlabel='category'>"
      ]
     },
     "execution_count": 26,
     "metadata": {},
     "output_type": "execute_result"
    },
    {
     "data": {
      "image/png": "[encoded data removed]",
      "text/plain": [
       "<Figure size 640x480 with 1 Axes>"
      ]
     },
     "metadata": {},
     "output_type": "display_data"
    }
   ],
   "source": [
    "#Determine the total number of products available by category\n",
    "product_data.groupby('category')['product_name'].count().plot(kind='bar',title='total number of customers City wise')"
   ]
  },
  {
   "cell_type": "code",
   "execution_count": 27,
   "id": "ab9a0e34",
   "metadata": {},
   "outputs": [
    {
     "data": {
      "text/plain": [
       "<AxesSubplot:title={'center':'total number of customers City wise'}, xlabel='sub_category'>"
      ]
     },
     "execution_count": 27,
     "metadata": {},
     "output_type": "execute_result"
    },
    {
     "data": {
      "image/png": "[encoded data removed]",
      "text/plain": [
       "<Figure size 640x480 with 1 Axes>"
      ]
     },
     "metadata": {},
     "output_type": "display_data"
    }
   ],
   "source": [
    "#Analyze the distribution of products across sub-categories.\n",
    "product_data.groupby('sub_category')['product_name'].count().plot(kind='bar',title='total number of customers City wise')"
   ]
  },
  {
   "cell_type": "code",
   "execution_count": null,
   "id": "363eaac1",
   "metadata": {},
   "outputs": [],
   "source": []
  },
  {
   "cell_type": "code",
   "execution_count": 29,
   "id": "63ba48a3",
   "metadata": {},
   "outputs": [
    {
     "name": "stdout",
     "output_type": "stream",
     "text": [
      "1    10\n",
      "Name: stock, dtype: int64\n",
      "Products with low stock levels:\n",
      "  product_id product_name   category sub_category  original_price  \\\n",
      "1       P102        Chair  furniture       Chairs         20000.0   \n",
      "\n",
      "   selling_price  stock  \n",
      "1        15000.0     10  \n"
     ]
    },
    {
     "data": {
      "image/png": "[encoded data removed]",
      "text/plain": [
       "<Figure size 500x600 with 1 Axes>"
      ]
     },
     "metadata": {},
     "output_type": "display_data"
    }
   ],
   "source": [
    "#Identify products with low stock levels\n",
    "import matplotlib.pyplot as plt \n",
    "low_stock_threshold = 20\n",
    "print(product_data['stock'] )\n",
    "# Filter the DataFrame to identify products with low stock levels\n",
    "product_data = product_data[product_data['stock'] < low_stock_threshold]\n",
    "\n",
    "print(\"Products with low stock levels:\")\n",
    "print(product_data)\n",
    "\n",
    "# Plotting the bar graph\n",
    "plt.figure(figsize=(5, 6))\n",
    "plt.bar(product_data['sub_category'], product_data['stock'])\n",
    "plt.xlabel('sub_category')\n",
    "plt.ylabel('Stock Level')\n",
    "plt.title('Products with Low Stock Levels')\n",
    "plt.xticks(rotation=40, ha='right')\n",
    "plt.tight_layout()\n",
    "plt.show()"
   ]
  },
  {
   "cell_type": "code",
   "execution_count": null,
   "id": "06c227eb",
   "metadata": {},
   "outputs": [],
   "source": []
  },
  {
   "cell_type": "code",
   "execution_count": 30,
   "id": "bae76321",
   "metadata": {},
   "outputs": [
    {
     "data": {
      "text/plain": [
       "<AxesSubplot:title={'center':'order status distribution'}, xlabel='order_status'>"
      ]
     },
     "execution_count": 30,
     "metadata": {},
     "output_type": "execute_result"
    },
    {
     "data": {
      "image/png": "[encoded data removed]",
      "text/plain": [
       "<Figure size 640x480 with 1 Axes>"
      ]
     },
     "metadata": {},
     "output_type": "display_data"
    }
   ],
   "source": [
    "order_details.groupby('order_status')['order_id'].count().plot(kind='bar',title='order status distribution')"
   ]
  },
  {
   "cell_type": "code",
   "execution_count": null,
   "id": "86d9a600",
   "metadata": {},
   "outputs": [],
   "source": []
  },
  {
   "cell_type": "code",
   "execution_count": null,
   "id": "a23c56e0",
   "metadata": {},
   "outputs": [],
   "source": []
  },
  {
   "cell_type": "code",
   "execution_count": null,
   "id": "167aa84e",
   "metadata": {},
   "outputs": [],
   "source": []
  },
  {
   "cell_type": "code",
   "execution_count": null,
   "id": "bd1aaef3",
   "metadata": {},
   "outputs": [],
   "source": []
  },
  {
   "cell_type": "code",
   "execution_count": null,
   "id": "e8da280b",
   "metadata": {},
   "outputs": [],
   "source": []
  }
 ],
 "metadata": {
  "kernelspec": {
   "display_name": "Python 3 (ipykernel)",
   "language": "python",
   "name": "python3"
  },
  "language_info": {
   "codemirror_mode": {
    "name": "ipython",
    "version": 3
   },
   "file_extension": ".py",
   "mimetype": "text/x-python",
   "name": "python",
   "nbconvert_exporter": "python",
   "pygments_lexer": "ipython3",
   "version": "3.9.13"
  }
 },
 "nbformat": 4,
 "nbformat_minor": 5
}
